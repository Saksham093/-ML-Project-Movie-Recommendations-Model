{
 "cells": [
  {
   "cell_type": "code",
   "execution_count": 11,
   "id": "8c433a37-8316-4b44-a6ed-db43a5f42009",
   "metadata": {},
   "outputs": [
    {
     "data": {
      "text/plain": [
       "['Spider-Man 2',\n",
       " 'Spider-Man',\n",
       " 'The Amazing Spider-Man 2',\n",
       " 'The Amazing Spider-Man',\n",
       " 'Arachnophobia']"
      ]
     },
     "execution_count": 11,
     "metadata": {},
     "output_type": "execute_result"
    }
   ],
   "source": [
    "import streamlit as st\n",
    "import pickle\n",
    "import pandas as pd\n",
    "\n",
    "def recommend(movie):\n",
    "    movie_index = movies[movies['title'] == movie].index[0]\n",
    "    distances = similarity[movie_index]\n",
    "    movie_list = sorted(list(enumerate(distances)), reverse=True, key = lambda x:x[1])[1:6]\n",
    "    \n",
    "    \n",
    "    recommended_movies = []\n",
    "    for i in movie_list:\n",
    "        recommended_movies.append(movies.iloc[i[0]].title)\n",
    "    return recommended_movies\n",
    "        \n",
    "        \n",
    "        \n",
    "        \n",
    "        \n",
    "\n",
    "movies_dict = pickle.load(open('movie_dict.pkl', 'rb'))\n",
    "movies = pd.DataFrame(movies_dict)\n",
    "similarity = pickle.load(open('similarity.pkl', 'rb'))\n",
    "\n",
    "st.title(\"Movie Recommender System\")\n",
    "\n",
    "selected_movie_name = st.selectbox(\n",
    "'The Movie You Liked ?',\n",
    "movies['title'].values)\n",
    "\n",
    "if st.button('Recommend'):\n",
    "    recommend_list = recommend(selected_movie_name)\n",
    "    for i in recommend_list:\n",
    "        st.write(i)\n",
    "    \n",
    "    \n",
    "\n",
    "recommend('Spider-Man 3')"
   ]
  },
  {
   "cell_type": "code",
   "execution_count": null,
   "id": "fe941055-1c7a-4131-a9ad-1ecbd08da5e0",
   "metadata": {},
   "outputs": [],
   "source": []
  }
 ],
 "metadata": {
  "kernelspec": {
   "display_name": "Python 3 (ipykernel)",
   "language": "python",
   "name": "python3"
  },
  "language_info": {
   "codemirror_mode": {
    "name": "ipython",
    "version": 3
   },
   "file_extension": ".py",
   "mimetype": "text/x-python",
   "name": "python",
   "nbconvert_exporter": "python",
   "pygments_lexer": "ipython3",
   "version": "3.9.12"
  }
 },
 "nbformat": 4,
 "nbformat_minor": 5
}
